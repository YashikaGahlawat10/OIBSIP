{
 "cells": [
  {
   "cell_type": "markdown",
   "id": "9092570c-07f5-4bc8-9a73-0eaa70858135",
   "metadata": {},
   "source": [
    "# Name - Yashika\n",
    "## Data Science Task-1(OIBSIP)"
   ]
  },
  {
   "cell_type": "code",
   "execution_count": 1,
   "id": "51b5b041-da39-497b-b1cf-2088ddf244af",
   "metadata": {},
   "outputs": [
    {
     "data": {
      "text/plain": [
       "['__all__',\n",
       " '__builtins__',\n",
       " '__cached__',\n",
       " '__doc__',\n",
       " '__file__',\n",
       " '__getattr__',\n",
       " '__loader__',\n",
       " '__name__',\n",
       " '__package__',\n",
       " '__path__',\n",
       " '__spec__',\n",
       " '_arff_parser',\n",
       " '_base',\n",
       " '_california_housing',\n",
       " '_covtype',\n",
       " '_kddcup99',\n",
       " '_lfw',\n",
       " '_olivetti_faces',\n",
       " '_openml',\n",
       " '_rcv1',\n",
       " '_samples_generator',\n",
       " '_species_distributions',\n",
       " '_svmlight_format_fast',\n",
       " '_svmlight_format_io',\n",
       " '_twenty_newsgroups',\n",
       " 'clear_data_home',\n",
       " 'dump_svmlight_file',\n",
       " 'fetch_20newsgroups',\n",
       " 'fetch_20newsgroups_vectorized',\n",
       " 'fetch_california_housing',\n",
       " 'fetch_covtype',\n",
       " 'fetch_kddcup99',\n",
       " 'fetch_lfw_pairs',\n",
       " 'fetch_lfw_people',\n",
       " 'fetch_olivetti_faces',\n",
       " 'fetch_openml',\n",
       " 'fetch_rcv1',\n",
       " 'fetch_species_distributions',\n",
       " 'get_data_home',\n",
       " 'load_breast_cancer',\n",
       " 'load_diabetes',\n",
       " 'load_digits',\n",
       " 'load_files',\n",
       " 'load_iris',\n",
       " 'load_linnerud',\n",
       " 'load_sample_image',\n",
       " 'load_sample_images',\n",
       " 'load_svmlight_file',\n",
       " 'load_svmlight_files',\n",
       " 'load_wine',\n",
       " 'make_biclusters',\n",
       " 'make_blobs',\n",
       " 'make_checkerboard',\n",
       " 'make_circles',\n",
       " 'make_classification',\n",
       " 'make_friedman1',\n",
       " 'make_friedman2',\n",
       " 'make_friedman3',\n",
       " 'make_gaussian_quantiles',\n",
       " 'make_hastie_10_2',\n",
       " 'make_low_rank_matrix',\n",
       " 'make_moons',\n",
       " 'make_multilabel_classification',\n",
       " 'make_regression',\n",
       " 'make_s_curve',\n",
       " 'make_sparse_coded_signal',\n",
       " 'make_sparse_spd_matrix',\n",
       " 'make_sparse_uncorrelated',\n",
       " 'make_spd_matrix',\n",
       " 'make_swiss_roll',\n",
       " 'textwrap']"
      ]
     },
     "execution_count": 1,
     "metadata": {},
     "output_type": "execute_result"
    }
   ],
   "source": [
    "import numpy as np\n",
    "import pandas as pd\n",
    "from sklearn import datasets\n",
    "\n",
    "dir(datasets)"
   ]
  },
  {
   "cell_type": "code",
   "execution_count": 2,
   "id": "8c3e1ea6-a520-49c4-91c7-e2ae09804c50",
   "metadata": {},
   "outputs": [
    {
     "data": {
      "text/plain": [
       "{'data': array([[5.1, 3.5, 1.4, 0.2],\n",
       "        [4.9, 3. , 1.4, 0.2],\n",
       "        [4.7, 3.2, 1.3, 0.2],\n",
       "        [4.6, 3.1, 1.5, 0.2],\n",
       "        [5. , 3.6, 1.4, 0.2],\n",
       "        [5.4, 3.9, 1.7, 0.4],\n",
       "        [4.6, 3.4, 1.4, 0.3],\n",
       "        [5. , 3.4, 1.5, 0.2],\n",
       "        [4.4, 2.9, 1.4, 0.2],\n",
       "        [4.9, 3.1, 1.5, 0.1],\n",
       "        [5.4, 3.7, 1.5, 0.2],\n",
       "        [4.8, 3.4, 1.6, 0.2],\n",
       "        [4.8, 3. , 1.4, 0.1],\n",
       "        [4.3, 3. , 1.1, 0.1],\n",
       "        [5.8, 4. , 1.2, 0.2],\n",
       "        [5.7, 4.4, 1.5, 0.4],\n",
       "        [5.4, 3.9, 1.3, 0.4],\n",
       "        [5.1, 3.5, 1.4, 0.3],\n",
       "        [5.7, 3.8, 1.7, 0.3],\n",
       "        [5.1, 3.8, 1.5, 0.3],\n",
       "        [5.4, 3.4, 1.7, 0.2],\n",
       "        [5.1, 3.7, 1.5, 0.4],\n",
       "        [4.6, 3.6, 1. , 0.2],\n",
       "        [5.1, 3.3, 1.7, 0.5],\n",
       "        [4.8, 3.4, 1.9, 0.2],\n",
       "        [5. , 3. , 1.6, 0.2],\n",
       "        [5. , 3.4, 1.6, 0.4],\n",
       "        [5.2, 3.5, 1.5, 0.2],\n",
       "        [5.2, 3.4, 1.4, 0.2],\n",
       "        [4.7, 3.2, 1.6, 0.2],\n",
       "        [4.8, 3.1, 1.6, 0.2],\n",
       "        [5.4, 3.4, 1.5, 0.4],\n",
       "        [5.2, 4.1, 1.5, 0.1],\n",
       "        [5.5, 4.2, 1.4, 0.2],\n",
       "        [4.9, 3.1, 1.5, 0.2],\n",
       "        [5. , 3.2, 1.2, 0.2],\n",
       "        [5.5, 3.5, 1.3, 0.2],\n",
       "        [4.9, 3.6, 1.4, 0.1],\n",
       "        [4.4, 3. , 1.3, 0.2],\n",
       "        [5.1, 3.4, 1.5, 0.2],\n",
       "        [5. , 3.5, 1.3, 0.3],\n",
       "        [4.5, 2.3, 1.3, 0.3],\n",
       "        [4.4, 3.2, 1.3, 0.2],\n",
       "        [5. , 3.5, 1.6, 0.6],\n",
       "        [5.1, 3.8, 1.9, 0.4],\n",
       "        [4.8, 3. , 1.4, 0.3],\n",
       "        [5.1, 3.8, 1.6, 0.2],\n",
       "        [4.6, 3.2, 1.4, 0.2],\n",
       "        [5.3, 3.7, 1.5, 0.2],\n",
       "        [5. , 3.3, 1.4, 0.2],\n",
       "        [7. , 3.2, 4.7, 1.4],\n",
       "        [6.4, 3.2, 4.5, 1.5],\n",
       "        [6.9, 3.1, 4.9, 1.5],\n",
       "        [5.5, 2.3, 4. , 1.3],\n",
       "        [6.5, 2.8, 4.6, 1.5],\n",
       "        [5.7, 2.8, 4.5, 1.3],\n",
       "        [6.3, 3.3, 4.7, 1.6],\n",
       "        [4.9, 2.4, 3.3, 1. ],\n",
       "        [6.6, 2.9, 4.6, 1.3],\n",
       "        [5.2, 2.7, 3.9, 1.4],\n",
       "        [5. , 2. , 3.5, 1. ],\n",
       "        [5.9, 3. , 4.2, 1.5],\n",
       "        [6. , 2.2, 4. , 1. ],\n",
       "        [6.1, 2.9, 4.7, 1.4],\n",
       "        [5.6, 2.9, 3.6, 1.3],\n",
       "        [6.7, 3.1, 4.4, 1.4],\n",
       "        [5.6, 3. , 4.5, 1.5],\n",
       "        [5.8, 2.7, 4.1, 1. ],\n",
       "        [6.2, 2.2, 4.5, 1.5],\n",
       "        [5.6, 2.5, 3.9, 1.1],\n",
       "        [5.9, 3.2, 4.8, 1.8],\n",
       "        [6.1, 2.8, 4. , 1.3],\n",
       "        [6.3, 2.5, 4.9, 1.5],\n",
       "        [6.1, 2.8, 4.7, 1.2],\n",
       "        [6.4, 2.9, 4.3, 1.3],\n",
       "        [6.6, 3. , 4.4, 1.4],\n",
       "        [6.8, 2.8, 4.8, 1.4],\n",
       "        [6.7, 3. , 5. , 1.7],\n",
       "        [6. , 2.9, 4.5, 1.5],\n",
       "        [5.7, 2.6, 3.5, 1. ],\n",
       "        [5.5, 2.4, 3.8, 1.1],\n",
       "        [5.5, 2.4, 3.7, 1. ],\n",
       "        [5.8, 2.7, 3.9, 1.2],\n",
       "        [6. , 2.7, 5.1, 1.6],\n",
       "        [5.4, 3. , 4.5, 1.5],\n",
       "        [6. , 3.4, 4.5, 1.6],\n",
       "        [6.7, 3.1, 4.7, 1.5],\n",
       "        [6.3, 2.3, 4.4, 1.3],\n",
       "        [5.6, 3. , 4.1, 1.3],\n",
       "        [5.5, 2.5, 4. , 1.3],\n",
       "        [5.5, 2.6, 4.4, 1.2],\n",
       "        [6.1, 3. , 4.6, 1.4],\n",
       "        [5.8, 2.6, 4. , 1.2],\n",
       "        [5. , 2.3, 3.3, 1. ],\n",
       "        [5.6, 2.7, 4.2, 1.3],\n",
       "        [5.7, 3. , 4.2, 1.2],\n",
       "        [5.7, 2.9, 4.2, 1.3],\n",
       "        [6.2, 2.9, 4.3, 1.3],\n",
       "        [5.1, 2.5, 3. , 1.1],\n",
       "        [5.7, 2.8, 4.1, 1.3],\n",
       "        [6.3, 3.3, 6. , 2.5],\n",
       "        [5.8, 2.7, 5.1, 1.9],\n",
       "        [7.1, 3. , 5.9, 2.1],\n",
       "        [6.3, 2.9, 5.6, 1.8],\n",
       "        [6.5, 3. , 5.8, 2.2],\n",
       "        [7.6, 3. , 6.6, 2.1],\n",
       "        [4.9, 2.5, 4.5, 1.7],\n",
       "        [7.3, 2.9, 6.3, 1.8],\n",
       "        [6.7, 2.5, 5.8, 1.8],\n",
       "        [7.2, 3.6, 6.1, 2.5],\n",
       "        [6.5, 3.2, 5.1, 2. ],\n",
       "        [6.4, 2.7, 5.3, 1.9],\n",
       "        [6.8, 3. , 5.5, 2.1],\n",
       "        [5.7, 2.5, 5. , 2. ],\n",
       "        [5.8, 2.8, 5.1, 2.4],\n",
       "        [6.4, 3.2, 5.3, 2.3],\n",
       "        [6.5, 3. , 5.5, 1.8],\n",
       "        [7.7, 3.8, 6.7, 2.2],\n",
       "        [7.7, 2.6, 6.9, 2.3],\n",
       "        [6. , 2.2, 5. , 1.5],\n",
       "        [6.9, 3.2, 5.7, 2.3],\n",
       "        [5.6, 2.8, 4.9, 2. ],\n",
       "        [7.7, 2.8, 6.7, 2. ],\n",
       "        [6.3, 2.7, 4.9, 1.8],\n",
       "        [6.7, 3.3, 5.7, 2.1],\n",
       "        [7.2, 3.2, 6. , 1.8],\n",
       "        [6.2, 2.8, 4.8, 1.8],\n",
       "        [6.1, 3. , 4.9, 1.8],\n",
       "        [6.4, 2.8, 5.6, 2.1],\n",
       "        [7.2, 3. , 5.8, 1.6],\n",
       "        [7.4, 2.8, 6.1, 1.9],\n",
       "        [7.9, 3.8, 6.4, 2. ],\n",
       "        [6.4, 2.8, 5.6, 2.2],\n",
       "        [6.3, 2.8, 5.1, 1.5],\n",
       "        [6.1, 2.6, 5.6, 1.4],\n",
       "        [7.7, 3. , 6.1, 2.3],\n",
       "        [6.3, 3.4, 5.6, 2.4],\n",
       "        [6.4, 3.1, 5.5, 1.8],\n",
       "        [6. , 3. , 4.8, 1.8],\n",
       "        [6.9, 3.1, 5.4, 2.1],\n",
       "        [6.7, 3.1, 5.6, 2.4],\n",
       "        [6.9, 3.1, 5.1, 2.3],\n",
       "        [5.8, 2.7, 5.1, 1.9],\n",
       "        [6.8, 3.2, 5.9, 2.3],\n",
       "        [6.7, 3.3, 5.7, 2.5],\n",
       "        [6.7, 3. , 5.2, 2.3],\n",
       "        [6.3, 2.5, 5. , 1.9],\n",
       "        [6.5, 3. , 5.2, 2. ],\n",
       "        [6.2, 3.4, 5.4, 2.3],\n",
       "        [5.9, 3. , 5.1, 1.8]]),\n",
       " 'target': array([0, 0, 0, 0, 0, 0, 0, 0, 0, 0, 0, 0, 0, 0, 0, 0, 0, 0, 0, 0, 0, 0,\n",
       "        0, 0, 0, 0, 0, 0, 0, 0, 0, 0, 0, 0, 0, 0, 0, 0, 0, 0, 0, 0, 0, 0,\n",
       "        0, 0, 0, 0, 0, 0, 1, 1, 1, 1, 1, 1, 1, 1, 1, 1, 1, 1, 1, 1, 1, 1,\n",
       "        1, 1, 1, 1, 1, 1, 1, 1, 1, 1, 1, 1, 1, 1, 1, 1, 1, 1, 1, 1, 1, 1,\n",
       "        1, 1, 1, 1, 1, 1, 1, 1, 1, 1, 1, 1, 2, 2, 2, 2, 2, 2, 2, 2, 2, 2,\n",
       "        2, 2, 2, 2, 2, 2, 2, 2, 2, 2, 2, 2, 2, 2, 2, 2, 2, 2, 2, 2, 2, 2,\n",
       "        2, 2, 2, 2, 2, 2, 2, 2, 2, 2, 2, 2, 2, 2, 2, 2, 2, 2]),\n",
       " 'frame': None,\n",
       " 'target_names': array(['setosa', 'versicolor', 'virginica'], dtype='<U10'),\n",
       " 'DESCR': '.. _iris_dataset:\\n\\nIris plants dataset\\n--------------------\\n\\n**Data Set Characteristics:**\\n\\n    :Number of Instances: 150 (50 in each of three classes)\\n    :Number of Attributes: 4 numeric, predictive attributes and the class\\n    :Attribute Information:\\n        - sepal length in cm\\n        - sepal width in cm\\n        - petal length in cm\\n        - petal width in cm\\n        - class:\\n                - Iris-Setosa\\n                - Iris-Versicolour\\n                - Iris-Virginica\\n                \\n    :Summary Statistics:\\n\\n    ============== ==== ==== ======= ===== ====================\\n                    Min  Max   Mean    SD   Class Correlation\\n    ============== ==== ==== ======= ===== ====================\\n    sepal length:   4.3  7.9   5.84   0.83    0.7826\\n    sepal width:    2.0  4.4   3.05   0.43   -0.4194\\n    petal length:   1.0  6.9   3.76   1.76    0.9490  (high!)\\n    petal width:    0.1  2.5   1.20   0.76    0.9565  (high!)\\n    ============== ==== ==== ======= ===== ====================\\n\\n    :Missing Attribute Values: None\\n    :Class Distribution: 33.3% for each of 3 classes.\\n    :Creator: R.A. Fisher\\n    :Donor: Michael Marshall (MARSHALL%PLU@io.arc.nasa.gov)\\n    :Date: July, 1988\\n\\nThe famous Iris database, first used by Sir R.A. Fisher. The dataset is taken\\nfrom Fisher\\'s paper. Note that it\\'s the same as in R, but not as in the UCI\\nMachine Learning Repository, which has two wrong data points.\\n\\nThis is perhaps the best known database to be found in the\\npattern recognition literature.  Fisher\\'s paper is a classic in the field and\\nis referenced frequently to this day.  (See Duda & Hart, for example.)  The\\ndata set contains 3 classes of 50 instances each, where each class refers to a\\ntype of iris plant.  One class is linearly separable from the other 2; the\\nlatter are NOT linearly separable from each other.\\n\\n.. topic:: References\\n\\n   - Fisher, R.A. \"The use of multiple measurements in taxonomic problems\"\\n     Annual Eugenics, 7, Part II, 179-188 (1936); also in \"Contributions to\\n     Mathematical Statistics\" (John Wiley, NY, 1950).\\n   - Duda, R.O., & Hart, P.E. (1973) Pattern Classification and Scene Analysis.\\n     (Q327.D83) John Wiley & Sons.  ISBN 0-471-22361-1.  See page 218.\\n   - Dasarathy, B.V. (1980) \"Nosing Around the Neighborhood: A New System\\n     Structure and Classification Rule for Recognition in Partially Exposed\\n     Environments\".  IEEE Transactions on Pattern Analysis and Machine\\n     Intelligence, Vol. PAMI-2, No. 1, 67-71.\\n   - Gates, G.W. (1972) \"The Reduced Nearest Neighbor Rule\".  IEEE Transactions\\n     on Information Theory, May 1972, 431-433.\\n   - See also: 1988 MLC Proceedings, 54-64.  Cheeseman et al\"s AUTOCLASS II\\n     conceptual clustering system finds 3 classes in the data.\\n   - Many, many more ...',\n",
       " 'feature_names': ['sepal length (cm)',\n",
       "  'sepal width (cm)',\n",
       "  'petal length (cm)',\n",
       "  'petal width (cm)'],\n",
       " 'filename': 'iris.csv',\n",
       " 'data_module': 'sklearn.datasets.data'}"
      ]
     },
     "execution_count": 2,
     "metadata": {},
     "output_type": "execute_result"
    }
   ],
   "source": [
    "iris = datasets.load_iris()\n",
    "iris"
   ]
  },
  {
   "cell_type": "code",
   "execution_count": 3,
   "id": "b43afc95-0965-4893-86ac-b2d55625ffab",
   "metadata": {},
   "outputs": [
    {
     "name": "stdout",
     "output_type": "stream",
     "text": [
      "(150, 4)\n",
      "(150,)\n"
     ]
    }
   ],
   "source": [
    "# Extract features (X) and target variable (y)\n",
    "X = iris.data  # Features (all columns except the last one)\n",
    "Y = iris.target  # Target variable (last column)\n",
    "print(X.shape)\n",
    "print(Y.shape)"
   ]
  },
  {
   "cell_type": "code",
   "execution_count": 4,
   "id": "0f446f44-147b-449e-9f6c-de16cbd2b8c4",
   "metadata": {},
   "outputs": [
    {
     "name": "stdout",
     "output_type": "stream",
     "text": [
      "(120, 4)\n",
      "(30, 4)\n",
      "(120,)\n",
      "(30,)\n"
     ]
    }
   ],
   "source": [
    "from sklearn import model_selection\n",
    "\n",
    "X_train, X_test, Y_train, Y_test = model_selection.train_test_split(X, Y, test_size = 0.2, random_state = 0)\n",
    "#  split the dataset into training and testing in the ratio of 80:20\n",
    "print(X_train.shape)\n",
    "print(X_test.shape)\n",
    "print(Y_train.shape)\n",
    "print(Y_test.shape)"
   ]
  },
  {
   "cell_type": "code",
   "execution_count": 5,
   "id": "4ac105fc-3818-4941-b4fb-34d1951e0e42",
   "metadata": {},
   "outputs": [],
   "source": [
    "# standardizing the dataset(input feature)\n",
    "from sklearn.preprocessing import StandardScaler\n",
    "scaler = StandardScaler()"
   ]
  },
  {
   "cell_type": "code",
   "execution_count": 6,
   "id": "1c623fd2-ce7a-4f70-a9ba-047d9c0b07e7",
   "metadata": {},
   "outputs": [
    {
     "data": {
      "text/plain": [
       "array([[ 0.61303014,  0.10850105,  0.94751783,  0.736072  ],\n",
       "       [-0.56776627, -0.12400121,  0.38491447,  0.34752959],\n",
       "       [-0.80392556,  1.03851009, -1.30289562, -1.33615415],\n",
       "       [ 0.25879121, -0.12400121,  0.60995581,  0.736072  ],\n",
       "       [ 0.61303014, -0.58900572,  1.00377816,  1.25412853],\n",
       "       [-0.80392556, -0.82150798,  0.04735245,  0.21801546],\n",
       "       [-0.21352735,  1.73601687, -1.19037495, -1.20664002],\n",
       "       [ 0.14071157, -0.82150798,  0.72247648,  0.47704373],\n",
       "       [ 0.02263193, -0.12400121,  0.21613346,  0.34752959],\n",
       "       [-0.09544771, -1.05401024,  0.10361279, -0.04101281],\n",
       "       [ 1.0853487 , -0.12400121,  0.94751783,  1.1246144 ],\n",
       "       [-1.39432376,  0.34100331, -1.41541629, -1.33615415],\n",
       "       [ 1.20342834,  0.10850105,  0.72247648,  1.38364267],\n",
       "       [-1.04008484,  1.03851009, -1.24663528, -0.81809761],\n",
       "       [-0.56776627,  1.50351461, -1.30289562, -1.33615415],\n",
       "       [-1.04008484, -2.4490238 , -0.1776889 , -0.30004108],\n",
       "       [ 0.73110978, -0.12400121,  0.94751783,  0.736072  ],\n",
       "       [ 0.96726906,  0.57350557,  1.0600385 ,  1.64267094],\n",
       "       [ 0.14071157, -1.98401928,  0.66621615,  0.34752959],\n",
       "       [ 0.96726906, -1.2865125 ,  1.11629884,  0.736072  ],\n",
       "       [-0.33160699, -1.2865125 ,  0.04735245, -0.17052694],\n",
       "       [ 2.14806547, -0.12400121,  1.28507985,  1.38364267],\n",
       "       [ 0.49495049,  0.57350557,  0.49743514,  0.47704373],\n",
       "       [-0.44968663, -1.51901476, -0.00890789, -0.17052694],\n",
       "       [ 0.49495049, -0.82150798,  0.60995581,  0.736072  ],\n",
       "       [ 0.49495049, -0.58900572,  0.72247648,  0.34752959],\n",
       "       [-1.15816448, -1.2865125 ,  0.38491447,  0.60655786],\n",
       "       [ 0.49495049, -1.2865125 ,  0.66621615,  0.86558613],\n",
       "       [ 1.32150798,  0.34100331,  0.49743514,  0.21801546],\n",
       "       [ 0.73110978, -0.12400121,  0.77873682,  0.99510027],\n",
       "       [ 0.14071157,  0.80600783,  0.38491447,  0.47704373],\n",
       "       [-1.27624412,  0.10850105, -1.24663528, -1.33615415],\n",
       "       [-0.09544771, -0.82150798,  0.72247648,  0.86558613],\n",
       "       [-0.33160699, -0.82150798,  0.21613346,  0.08850133],\n",
       "       [-0.33160699, -0.35650346, -0.12142856,  0.08850133],\n",
       "       [-0.44968663, -1.2865125 ,  0.10361279,  0.08850133],\n",
       "       [ 0.25879121, -0.12400121,  0.4411748 ,  0.21801546],\n",
       "       [ 1.55766726,  0.34100331,  1.22881951,  0.736072  ],\n",
       "       [-0.68584591,  1.50351461, -1.30289562, -1.33615415],\n",
       "       [-1.86664232, -0.12400121, -1.52793696, -1.46566829],\n",
       "       [ 0.61303014, -0.82150798,  0.83499716,  0.86558613],\n",
       "       [-0.21352735, -0.12400121,  0.21613346, -0.04101281],\n",
       "       [-0.56776627,  0.80600783, -1.19037495, -1.33615415],\n",
       "       [-0.21352735,  3.13103043, -1.30289562, -1.07712588],\n",
       "       [ 1.20342834,  0.10850105,  0.60995581,  0.34752959],\n",
       "       [-1.5124034 ,  0.10850105, -1.30289562, -1.33615415],\n",
       "       [ 0.02263193, -0.12400121,  0.72247648,  0.736072  ],\n",
       "       [-0.9220052 , -1.2865125 , -0.45899058, -0.17052694],\n",
       "       [-1.5124034 ,  0.80600783, -1.35915595, -1.20664002],\n",
       "       [ 0.37687085, -1.98401928,  0.38491447,  0.34752959],\n",
       "       [ 1.55766726,  1.27101235,  1.28507985,  1.64267094],\n",
       "       [-0.21352735, -0.35650346,  0.21613346,  0.08850133],\n",
       "       [-1.27624412, -0.12400121, -1.35915595, -1.46566829],\n",
       "       [ 1.43958762, -0.12400121,  1.17255917,  1.1246144 ],\n",
       "       [ 1.20342834,  0.34100331,  1.0600385 ,  1.38364267],\n",
       "       [ 0.73110978, -0.12400121,  1.11629884,  1.25412853],\n",
       "       [ 0.61303014, -0.58900572,  1.00377816,  1.1246144 ],\n",
       "       [-0.9220052 ,  1.73601687, -1.24663528, -1.33615415],\n",
       "       [-1.27624412,  0.80600783, -1.24663528, -1.33615415],\n",
       "       [ 0.73110978,  0.34100331,  0.72247648,  0.99510027],\n",
       "       [ 0.96726906,  0.57350557,  1.0600385 ,  1.1246144 ],\n",
       "       [-1.63048304, -1.75151702, -1.41541629, -1.20664002],\n",
       "       [ 0.37687085,  0.80600783,  0.89125749,  1.38364267],\n",
       "       [-1.15816448, -0.12400121, -1.35915595, -1.33615415],\n",
       "       [-0.21352735, -1.2865125 ,  0.66621615,  0.99510027],\n",
       "       [ 1.20342834,  0.10850105,  0.89125749,  1.1246144 ],\n",
       "       [-1.74856268,  0.34100331, -1.41541629, -1.33615415],\n",
       "       [-1.04008484,  1.27101235, -1.35915595, -1.33615415],\n",
       "       [ 1.55766726, -0.12400121,  1.11629884,  0.47704373],\n",
       "       [-0.9220052 ,  1.03851009, -1.35915595, -1.20664002],\n",
       "       [-1.74856268, -0.12400121, -1.41541629, -1.33615415],\n",
       "       [-0.56776627,  1.96851913, -1.19037495, -1.07712588],\n",
       "       [-0.44968663, -1.75151702,  0.10361279,  0.08850133],\n",
       "       [ 1.0853487 ,  0.34100331,  1.17255917,  1.38364267],\n",
       "       [ 2.02998583, -0.12400121,  1.56638153,  1.1246144 ],\n",
       "       [-0.9220052 ,  1.03851009, -1.35915595, -1.33615415],\n",
       "       [-1.15816448,  0.10850105, -1.30289562, -1.33615415],\n",
       "       [-0.80392556,  0.80600783, -1.35915595, -1.33615415],\n",
       "       [-0.21352735, -0.58900572,  0.38491447,  0.08850133],\n",
       "       [ 0.84918942, -0.12400121,  0.32865413,  0.21801546],\n",
       "       [-1.04008484,  0.34100331, -1.47167663, -1.33615415],\n",
       "       [-0.9220052 ,  0.57350557, -1.19037495, -0.94761175],\n",
       "       [ 0.61303014, -0.35650346,  0.27239379,  0.08850133],\n",
       "       [-0.56776627,  0.80600783, -1.30289562, -1.07712588],\n",
       "       [ 2.14806547, -1.05401024,  1.73516253,  1.38364267],\n",
       "       [-1.15816448, -1.51901476, -0.29020957, -0.30004108],\n",
       "       [ 2.38422475,  1.73601687,  1.45386085,  0.99510027],\n",
       "       [ 0.96726906,  0.10850105,  0.32865413,  0.21801546],\n",
       "       [-0.80392556,  2.43352365, -1.30289562, -1.46566829],\n",
       "       [ 0.14071157, -0.12400121,  0.55369548,  0.736072  ],\n",
       "       [-0.09544771,  2.20102139, -1.47167663, -1.33615415],\n",
       "       [ 2.14806547, -0.58900572,  1.62264186,  0.99510027],\n",
       "       [-0.9220052 ,  1.73601687, -1.30289562, -1.20664002],\n",
       "       [-1.39432376,  0.34100331, -1.24663528, -1.33615415],\n",
       "       [ 1.79382654, -0.58900572,  1.28507985,  0.86558613],\n",
       "       [-1.04008484,  0.57350557, -1.35915595, -1.33615415],\n",
       "       [ 0.49495049,  0.80600783,  1.00377816,  1.5131568 ],\n",
       "       [-0.21352735, -0.58900572,  0.15987312,  0.08850133],\n",
       "       [-0.09544771, -0.82150798,  0.04735245, -0.04101281],\n",
       "       [-0.21352735, -1.05401024, -0.1776889 , -0.30004108],\n",
       "       [ 0.61303014,  0.34100331,  0.83499716,  1.38364267],\n",
       "       [ 0.96726906, -0.12400121,  0.77873682,  1.38364267],\n",
       "       [ 0.49495049, -1.2865125 ,  0.60995581,  0.34752959],\n",
       "       [ 0.96726906, -0.12400121,  0.66621615,  0.60655786],\n",
       "       [-1.04008484, -0.12400121, -1.24663528, -1.33615415],\n",
       "       [-0.44968663, -1.51901476, -0.06516822, -0.30004108],\n",
       "       [ 0.96726906,  0.10850105,  1.00377816,  1.5131568 ],\n",
       "       [-0.09544771, -0.82150798,  0.72247648,  0.86558613],\n",
       "       [-0.9220052 ,  0.80600783, -1.30289562, -1.33615415],\n",
       "       [ 0.84918942, -0.35650346,  0.4411748 ,  0.08850133],\n",
       "       [-0.33160699, -0.12400121,  0.15987312,  0.08850133],\n",
       "       [ 0.02263193,  0.34100331,  0.55369548,  0.736072  ],\n",
       "       [ 0.49495049, -1.75151702,  0.32865413,  0.08850133],\n",
       "       [-0.44968663,  1.03851009, -1.41541629, -1.33615415],\n",
       "       [-0.9220052 ,  1.50351461, -1.30289562, -1.07712588],\n",
       "       [-1.15816448,  0.10850105, -1.30289562, -1.46566829],\n",
       "       [ 0.49495049, -0.35650346,  1.00377816,  0.736072  ],\n",
       "       [-0.09544771, -0.82150798,  0.15987312, -0.30004108],\n",
       "       [ 2.14806547,  1.73601687,  1.62264186,  1.25412853],\n",
       "       [-1.5124034 ,  0.34100331, -1.35915595, -1.33615415]])"
      ]
     },
     "execution_count": 6,
     "metadata": {},
     "output_type": "execute_result"
    }
   ],
   "source": [
    "X_train = scaler.fit_transform(X_train)\n",
    "X_train"
   ]
  },
  {
   "cell_type": "code",
   "execution_count": 7,
   "id": "417c1b6c-90ed-4907-9ebf-6826b3ded707",
   "metadata": {},
   "outputs": [
    {
     "data": {
      "text/plain": [
       "array([[-0.09544771, -0.58900572,  0.72247648,  1.5131568 ],\n",
       "       [ 0.14071157, -1.98401928,  0.10361279, -0.30004108],\n",
       "       [-0.44968663,  2.66602591, -1.35915595, -1.33615415],\n",
       "       [ 1.6757469 , -0.35650346,  1.39760052,  0.736072  ],\n",
       "       [-1.04008484,  0.80600783, -1.30289562, -1.33615415],\n",
       "       [ 0.49495049,  0.57350557,  1.22881951,  1.64267094],\n",
       "       [-1.04008484,  1.03851009, -1.41541629, -1.20664002],\n",
       "       [ 0.96726906,  0.10850105,  0.49743514,  0.34752959],\n",
       "       [ 1.0853487 , -0.58900572,  0.55369548,  0.21801546],\n",
       "       [ 0.25879121, -0.58900572,  0.10361279,  0.08850133],\n",
       "       [ 0.25879121, -1.05401024,  1.00377816,  0.21801546],\n",
       "       [ 0.61303014,  0.34100331,  0.38491447,  0.34752959],\n",
       "       [ 0.25879121, -0.58900572,  0.49743514, -0.04101281],\n",
       "       [ 0.73110978, -0.58900572,  0.4411748 ,  0.34752959],\n",
       "       [ 0.25879121, -0.35650346,  0.49743514,  0.21801546],\n",
       "       [-1.15816448,  1.27101235, -1.35915595, -1.46566829],\n",
       "       [ 0.14071157, -0.35650346,  0.38491447,  0.34752959],\n",
       "       [-0.44968663, -1.05401024,  0.32865413, -0.04101281],\n",
       "       [-1.27624412, -0.12400121, -1.35915595, -1.20664002],\n",
       "       [-0.56776627,  1.96851913, -1.41541629, -1.07712588],\n",
       "       [-0.33160699, -0.58900572,  0.60995581,  0.99510027],\n",
       "       [-0.33160699, -0.12400121,  0.38491447,  0.34752959],\n",
       "       [-1.27624412,  0.80600783, -1.07785427, -1.33615415],\n",
       "       [-1.74856268, -0.35650346, -1.35915595, -1.33615415],\n",
       "       [ 0.37687085, -0.58900572,  0.55369548,  0.736072  ],\n",
       "       [-1.5124034 ,  1.27101235, -1.5841973 , -1.33615415],\n",
       "       [-0.9220052 ,  1.73601687, -1.07785427, -1.07712588],\n",
       "       [ 0.37687085, -0.35650346,  0.27239379,  0.08850133],\n",
       "       [-1.04008484, -1.75151702, -0.29020957, -0.30004108],\n",
       "       [-1.04008484,  0.80600783, -1.24663528, -1.07712588]])"
      ]
     },
     "execution_count": 7,
     "metadata": {},
     "output_type": "execute_result"
    }
   ],
   "source": [
    "X_test = scaler.transform(X_test)\n",
    "X_test\n",
    "\n",
    "#scaler.inverse_transform(X_test)   # to get the data in original form"
   ]
  },
  {
   "cell_type": "code",
   "execution_count": null,
   "id": "12aab8d5-0c8a-4739-887f-7a7208d89496",
   "metadata": {},
   "outputs": [],
   "source": []
  },
  {
   "cell_type": "code",
   "execution_count": 8,
   "id": "70932e4c-78cf-45a1-9a51-e27438b4572c",
   "metadata": {},
   "outputs": [],
   "source": [
    "from sklearn.linear_model import LinearRegression\n",
    "# cross validation\n",
    "from sklearn.model_selection import cross_val_score\n",
    "algo1 = LinearRegression()"
   ]
  },
  {
   "cell_type": "code",
   "execution_count": 9,
   "id": "154c645b-d94a-4521-8393-0abe36c5aca2",
   "metadata": {},
   "outputs": [
    {
     "data": {
      "text/html": [
       "<style>#sk-container-id-1 {color: black;}#sk-container-id-1 pre{padding: 0;}#sk-container-id-1 div.sk-toggleable {background-color: white;}#sk-container-id-1 label.sk-toggleable__label {cursor: pointer;display: block;width: 100%;margin-bottom: 0;padding: 0.3em;box-sizing: border-box;text-align: center;}#sk-container-id-1 label.sk-toggleable__label-arrow:before {content: \"▸\";float: left;margin-right: 0.25em;color: #696969;}#sk-container-id-1 label.sk-toggleable__label-arrow:hover:before {color: black;}#sk-container-id-1 div.sk-estimator:hover label.sk-toggleable__label-arrow:before {color: black;}#sk-container-id-1 div.sk-toggleable__content {max-height: 0;max-width: 0;overflow: hidden;text-align: left;background-color: #f0f8ff;}#sk-container-id-1 div.sk-toggleable__content pre {margin: 0.2em;color: black;border-radius: 0.25em;background-color: #f0f8ff;}#sk-container-id-1 input.sk-toggleable__control:checked~div.sk-toggleable__content {max-height: 200px;max-width: 100%;overflow: auto;}#sk-container-id-1 input.sk-toggleable__control:checked~label.sk-toggleable__label-arrow:before {content: \"▾\";}#sk-container-id-1 div.sk-estimator input.sk-toggleable__control:checked~label.sk-toggleable__label {background-color: #d4ebff;}#sk-container-id-1 div.sk-label input.sk-toggleable__control:checked~label.sk-toggleable__label {background-color: #d4ebff;}#sk-container-id-1 input.sk-hidden--visually {border: 0;clip: rect(1px 1px 1px 1px);clip: rect(1px, 1px, 1px, 1px);height: 1px;margin: -1px;overflow: hidden;padding: 0;position: absolute;width: 1px;}#sk-container-id-1 div.sk-estimator {font-family: monospace;background-color: #f0f8ff;border: 1px dotted black;border-radius: 0.25em;box-sizing: border-box;margin-bottom: 0.5em;}#sk-container-id-1 div.sk-estimator:hover {background-color: #d4ebff;}#sk-container-id-1 div.sk-parallel-item::after {content: \"\";width: 100%;border-bottom: 1px solid gray;flex-grow: 1;}#sk-container-id-1 div.sk-label:hover label.sk-toggleable__label {background-color: #d4ebff;}#sk-container-id-1 div.sk-serial::before {content: \"\";position: absolute;border-left: 1px solid gray;box-sizing: border-box;top: 0;bottom: 0;left: 50%;z-index: 0;}#sk-container-id-1 div.sk-serial {display: flex;flex-direction: column;align-items: center;background-color: white;padding-right: 0.2em;padding-left: 0.2em;position: relative;}#sk-container-id-1 div.sk-item {position: relative;z-index: 1;}#sk-container-id-1 div.sk-parallel {display: flex;align-items: stretch;justify-content: center;background-color: white;position: relative;}#sk-container-id-1 div.sk-item::before, #sk-container-id-1 div.sk-parallel-item::before {content: \"\";position: absolute;border-left: 1px solid gray;box-sizing: border-box;top: 0;bottom: 0;left: 50%;z-index: -1;}#sk-container-id-1 div.sk-parallel-item {display: flex;flex-direction: column;z-index: 1;position: relative;background-color: white;}#sk-container-id-1 div.sk-parallel-item:first-child::after {align-self: flex-end;width: 50%;}#sk-container-id-1 div.sk-parallel-item:last-child::after {align-self: flex-start;width: 50%;}#sk-container-id-1 div.sk-parallel-item:only-child::after {width: 0;}#sk-container-id-1 div.sk-dashed-wrapped {border: 1px dashed gray;margin: 0 0.4em 0.5em 0.4em;box-sizing: border-box;padding-bottom: 0.4em;background-color: white;}#sk-container-id-1 div.sk-label label {font-family: monospace;font-weight: bold;display: inline-block;line-height: 1.2em;}#sk-container-id-1 div.sk-label-container {text-align: center;}#sk-container-id-1 div.sk-container {/* jupyter's `normalize.less` sets `[hidden] { display: none; }` but bootstrap.min.css set `[hidden] { display: none !important; }` so we also need the `!important` here to be able to override the default hidden behavior on the sphinx rendered scikit-learn.org. See: https://github.com/scikit-learn/scikit-learn/issues/21755 */display: inline-block !important;position: relative;}#sk-container-id-1 div.sk-text-repr-fallback {display: none;}</style><div id=\"sk-container-id-1\" class=\"sk-top-container\"><div class=\"sk-text-repr-fallback\"><pre>LinearRegression()</pre><b>In a Jupyter environment, please rerun this cell to show the HTML representation or trust the notebook. <br />On GitHub, the HTML representation is unable to render, please try loading this page with nbviewer.org.</b></div><div class=\"sk-container\" hidden><div class=\"sk-item\"><div class=\"sk-estimator sk-toggleable\"><input class=\"sk-toggleable__control sk-hidden--visually\" id=\"sk-estimator-id-1\" type=\"checkbox\" checked><label for=\"sk-estimator-id-1\" class=\"sk-toggleable__label sk-toggleable__label-arrow\">LinearRegression</label><div class=\"sk-toggleable__content\"><pre>LinearRegression()</pre></div></div></div></div></div>"
      ],
      "text/plain": [
       "LinearRegression()"
      ]
     },
     "execution_count": 9,
     "metadata": {},
     "output_type": "execute_result"
    }
   ],
   "source": [
    "regression = LinearRegression()\n",
    "regression.fit(X_train, Y_train)"
   ]
  },
  {
   "cell_type": "code",
   "execution_count": 10,
   "id": "6c50a0f6-501f-4053-9e0c-bf963eccb387",
   "metadata": {},
   "outputs": [
    {
     "data": {
      "text/plain": [
       "array([-0.08203645, -0.06441975, -0.10001915, -0.04195315, -0.0255552 ,\n",
       "       -0.02480884, -0.02174374, -0.0351136 , -0.05129301, -0.05033425])"
      ]
     },
     "execution_count": 10,
     "metadata": {},
     "output_type": "execute_result"
    }
   ],
   "source": [
    "mse = cross_val_score(regression, X_train, Y_train, scoring = 'neg_mean_squared_error', cv = 10)\n",
    "mse    # mean squared error"
   ]
  },
  {
   "cell_type": "code",
   "execution_count": 11,
   "id": "c184facd-3045-44a9-8952-0c1c4e9feb3d",
   "metadata": {},
   "outputs": [
    {
     "data": {
      "text/plain": [
       "-0.049727716098257255"
      ]
     },
     "execution_count": 11,
     "metadata": {},
     "output_type": "execute_result"
    }
   ],
   "source": [
    "np.mean(mse)"
   ]
  },
  {
   "cell_type": "code",
   "execution_count": 12,
   "id": "bc950886-7538-4209-a5cf-23d676bb1c21",
   "metadata": {},
   "outputs": [
    {
     "data": {
      "text/plain": [
       "array([ 2.06844113,  0.96345869, -0.14707913,  1.81304847, -0.03927091,\n",
       "        2.26261445, -0.02790835,  1.31919261,  1.28225236,  1.11236814,\n",
       "        1.54774304,  1.3013147 ,  1.21150471,  1.32946956,  1.32977882,\n",
       "       -0.12060477,  1.35574095,  1.21453128,  0.03610115, -0.02518356,\n",
       "        1.79941543,  1.39427904,  0.07356109,  0.02146025,  1.59050985,\n",
       "       -0.11917603,  0.14803648,  1.16645127,  0.90550234,  0.10586947])"
      ]
     },
     "execution_count": 12,
     "metadata": {},
     "output_type": "execute_result"
    }
   ],
   "source": [
    "# prediction \n",
    "reg_pred = regression.predict(X_test)\n",
    "reg_pred"
   ]
  },
  {
   "cell_type": "code",
   "execution_count": 13,
   "id": "3bee10fc-b1a3-4830-a728-692853de6104",
   "metadata": {},
   "outputs": [
    {
     "name": "stderr",
     "output_type": "stream",
     "text": [
      "C:\\Users\\Yogesh Gahlawat\\Desktop\\Project\\venv\\lib\\site-packages\\seaborn\\axisgrid.py:118: UserWarning: The figure layout has changed to tight\n",
      "  self._figure.tight_layout(*args, **kwargs)\n"
     ]
    },
    {
     "data": {
      "text/plain": [
       "<seaborn.axisgrid.FacetGrid at 0x221fd0a64a0>"
      ]
     },
     "execution_count": 13,
     "metadata": {},
     "output_type": "execute_result"
    },
    {
     "data": {
      "image/png": "[encoded data removed]",
      "text/plain": [
       "<Figure size 500x500 with 1 Axes>"
      ]
     },
     "metadata": {},
     "output_type": "display_data"
    }
   ],
   "source": [
    "import seaborn as sns\n",
    "sns.displot(reg_pred - Y_test, kind = 'kde')"
   ]
  },
  {
   "cell_type": "code",
   "execution_count": 14,
   "id": "b806e970-5c7b-4434-9ffd-9ec8500ee11b",
   "metadata": {},
   "outputs": [
    {
     "data": {
      "text/plain": [
       "0.9077131252960766"
      ]
     },
     "execution_count": 14,
     "metadata": {},
     "output_type": "execute_result"
    }
   ],
   "source": [
    "from sklearn.metrics import r2_score\n",
    "score = r2_score(reg_pred, Y_test)\n",
    "score"
   ]
  },
  {
   "cell_type": "code",
   "execution_count": null,
   "id": "d964008d-b46e-4f6b-a7c8-065e5061ed90",
   "metadata": {},
   "outputs": [],
   "source": []
  }
 ],
 "metadata": {
  "kernelspec": {
   "display_name": "Python 3 (ipykernel)",
   "language": "python",
   "name": "python3"
  },
  "language_info": {
   "codemirror_mode": {
    "name": "ipython",
    "version": 3
   },
   "file_extension": ".py",
   "mimetype": "text/x-python",
   "name": "python",
   "nbconvert_exporter": "python",
   "pygments_lexer": "ipython3",
   "version": "3.10.8"
  }
 },
 "nbformat": 4,
 "nbformat_minor": 5
}
