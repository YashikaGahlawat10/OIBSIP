{
 "cells": [
  {
   "cell_type": "markdown",
   "id": "5d25936e-a474-47d7-9bac-fdc216f413bc",
   "metadata": {},
   "source": [
    "# Name - Yashika\n",
    "## Data Science Task-5(OIBSIP)"
   ]
  },
  {
   "cell_type": "code",
   "execution_count": 1,
   "id": "8d1231dd-f29d-4859-b015-225dbe6f876c",
   "metadata": {},
   "outputs": [],
   "source": [
    "import numpy as np\n",
    "import pandas as pd\n"
   ]
  },
  {
   "cell_type": "code",
   "execution_count": 2,
   "id": "72cbb781-7578-426e-9c11-83a4c228f4cd",
   "metadata": {},
   "outputs": [
    {
     "data": {
      "text/html": [
       "<div>\n",
       "<style scoped>\n",
       "    .dataframe tbody tr th:only-of-type {\n",
       "        vertical-align: middle;\n",
       "    }\n",
       "\n",
       "    .dataframe tbody tr th {\n",
       "        vertical-align: top;\n",
       "    }\n",
       "\n",
       "    .dataframe thead th {\n",
       "        text-align: right;\n",
       "    }\n",
       "</style>\n",
       "<table border=\"1\" class=\"dataframe\">\n",
       "  <thead>\n",
       "    <tr style=\"text-align: right;\">\n",
       "      <th></th>\n",
       "      <th>Unnamed: 0</th>\n",
       "      <th>TV</th>\n",
       "      <th>Radio</th>\n",
       "      <th>Newspaper</th>\n",
       "      <th>Sales</th>\n",
       "    </tr>\n",
       "  </thead>\n",
       "  <tbody>\n",
       "    <tr>\n",
       "      <th>0</th>\n",
       "      <td>1</td>\n",
       "      <td>230.1</td>\n",
       "      <td>37.8</td>\n",
       "      <td>69.2</td>\n",
       "      <td>22.1</td>\n",
       "    </tr>\n",
       "    <tr>\n",
       "      <th>1</th>\n",
       "      <td>2</td>\n",
       "      <td>44.5</td>\n",
       "      <td>39.3</td>\n",
       "      <td>45.1</td>\n",
       "      <td>10.4</td>\n",
       "    </tr>\n",
       "    <tr>\n",
       "      <th>2</th>\n",
       "      <td>3</td>\n",
       "      <td>17.2</td>\n",
       "      <td>45.9</td>\n",
       "      <td>69.3</td>\n",
       "      <td>9.3</td>\n",
       "    </tr>\n",
       "    <tr>\n",
       "      <th>3</th>\n",
       "      <td>4</td>\n",
       "      <td>151.5</td>\n",
       "      <td>41.3</td>\n",
       "      <td>58.5</td>\n",
       "      <td>18.5</td>\n",
       "    </tr>\n",
       "    <tr>\n",
       "      <th>4</th>\n",
       "      <td>5</td>\n",
       "      <td>180.8</td>\n",
       "      <td>10.8</td>\n",
       "      <td>58.4</td>\n",
       "      <td>12.9</td>\n",
       "    </tr>\n",
       "  </tbody>\n",
       "</table>\n",
       "</div>"
      ],
      "text/plain": [
       "   Unnamed: 0     TV  Radio  Newspaper  Sales\n",
       "0           1  230.1   37.8       69.2   22.1\n",
       "1           2   44.5   39.3       45.1   10.4\n",
       "2           3   17.2   45.9       69.3    9.3\n",
       "3           4  151.5   41.3       58.5   18.5\n",
       "4           5  180.8   10.8       58.4   12.9"
      ]
     },
     "execution_count": 2,
     "metadata": {},
     "output_type": "execute_result"
    }
   ],
   "source": [
    "adver = pd.read_csv('Advertising.csv')\n",
    "adver.head()"
   ]
  },
  {
   "cell_type": "code",
   "execution_count": 3,
   "id": "1e409222-93d7-485e-9992-67065072e8c6",
   "metadata": {},
   "outputs": [
    {
     "data": {
      "text/html": [
       "<div>\n",
       "<style scoped>\n",
       "    .dataframe tbody tr th:only-of-type {\n",
       "        vertical-align: middle;\n",
       "    }\n",
       "\n",
       "    .dataframe tbody tr th {\n",
       "        vertical-align: top;\n",
       "    }\n",
       "\n",
       "    .dataframe thead th {\n",
       "        text-align: right;\n",
       "    }\n",
       "</style>\n",
       "<table border=\"1\" class=\"dataframe\">\n",
       "  <thead>\n",
       "    <tr style=\"text-align: right;\">\n",
       "      <th></th>\n",
       "      <th>TV</th>\n",
       "      <th>Radio</th>\n",
       "      <th>Newspaper</th>\n",
       "      <th>Sales</th>\n",
       "    </tr>\n",
       "  </thead>\n",
       "  <tbody>\n",
       "    <tr>\n",
       "      <th>0</th>\n",
       "      <td>230.1</td>\n",
       "      <td>37.8</td>\n",
       "      <td>69.2</td>\n",
       "      <td>22.1</td>\n",
       "    </tr>\n",
       "    <tr>\n",
       "      <th>1</th>\n",
       "      <td>44.5</td>\n",
       "      <td>39.3</td>\n",
       "      <td>45.1</td>\n",
       "      <td>10.4</td>\n",
       "    </tr>\n",
       "    <tr>\n",
       "      <th>2</th>\n",
       "      <td>17.2</td>\n",
       "      <td>45.9</td>\n",
       "      <td>69.3</td>\n",
       "      <td>9.3</td>\n",
       "    </tr>\n",
       "    <tr>\n",
       "      <th>3</th>\n",
       "      <td>151.5</td>\n",
       "      <td>41.3</td>\n",
       "      <td>58.5</td>\n",
       "      <td>18.5</td>\n",
       "    </tr>\n",
       "    <tr>\n",
       "      <th>4</th>\n",
       "      <td>180.8</td>\n",
       "      <td>10.8</td>\n",
       "      <td>58.4</td>\n",
       "      <td>12.9</td>\n",
       "    </tr>\n",
       "  </tbody>\n",
       "</table>\n",
       "</div>"
      ],
      "text/plain": [
       "      TV  Radio  Newspaper  Sales\n",
       "0  230.1   37.8       69.2   22.1\n",
       "1   44.5   39.3       45.1   10.4\n",
       "2   17.2   45.9       69.3    9.3\n",
       "3  151.5   41.3       58.5   18.5\n",
       "4  180.8   10.8       58.4   12.9"
      ]
     },
     "execution_count": 3,
     "metadata": {},
     "output_type": "execute_result"
    }
   ],
   "source": [
    "adver.drop('Unnamed: 0', axis = 1, inplace = True)\n",
    "adver.head()"
   ]
  },
  {
   "cell_type": "code",
   "execution_count": 4,
   "id": "1165586d-99b4-4fa6-990b-0d0c5ff62ba6",
   "metadata": {},
   "outputs": [
    {
     "name": "stdout",
     "output_type": "stream",
     "text": [
      "(200, 3)\n",
      "(200,)\n"
     ]
    }
   ],
   "source": [
    "# Independent features and Dependent features\n",
    "X = adver[['TV', 'Radio', 'Newspaper']]\n",
    "Y = adver['Sales']\n",
    "print(X.shape)\n",
    "print(Y.shape)"
   ]
  },
  {
   "cell_type": "code",
   "execution_count": 5,
   "id": "c8d11668-b8a5-4ce2-8ed0-32f227aed6d7",
   "metadata": {},
   "outputs": [
    {
     "name": "stdout",
     "output_type": "stream",
     "text": [
      "(160, 3)\n",
      "(40, 3)\n",
      "(160,)\n",
      "(40,)\n"
     ]
    }
   ],
   "source": [
    "# train test split\n",
    "from sklearn import model_selection\n",
    "\n",
    "X_train, X_test, Y_train, Y_test = model_selection.train_test_split(X, Y, test_size = 0.2, random_state = 0)\n",
    "#  split the dataset into training and testing in the ratio of 80:20\n",
    "print(X_train.shape)\n",
    "print(X_test.shape)\n",
    "print(Y_train.shape)\n",
    "print(Y_test.shape)"
   ]
  },
  {
   "cell_type": "code",
   "execution_count": 6,
   "id": "e0790d30-5ac4-4657-9d8a-5f415415bf25",
   "metadata": {},
   "outputs": [],
   "source": [
    "# standardizing the dataset(input feature)\n",
    "from sklearn.preprocessing import StandardScaler\n",
    "scaler = StandardScaler()"
   ]
  },
  {
   "cell_type": "code",
   "execution_count": 7,
   "id": "a0613de5-2d7f-46ca-b5cd-c6d4267e67c3",
   "metadata": {},
   "outputs": [
    {
     "data": {
      "text/plain": [
       "array([[-1.34155345,  1.0355176 ,  1.65941078],\n",
       "       [-1.4053143 ,  0.08249594, -1.30629738],\n",
       "       [-0.08995151,  0.40243892, -0.81980897],\n",
       "       [ 0.69761311, -0.18979597, -0.90868666],\n",
       "       [ 0.76609699,  0.01442296,  1.28518893],\n",
       "       [-0.56461564,  0.42286082, -1.01627544],\n",
       "       [-1.67570755, -1.44914602, -1.36243065],\n",
       "       [-1.57770476,  1.38268978,  2.77272078],\n",
       "       [-0.29304164,  0.91979354,  2.29558792],\n",
       "       [-0.54218127, -1.20408331,  0.19994556],\n",
       "       [-0.48078193, -0.61865571,  0.07364569],\n",
       "       [ 0.93258366,  0.60665785,  2.06169926],\n",
       "       [ 1.2195075 , -0.14214488, -0.00587645],\n",
       "       [ 0.40596624, -0.16256678, -0.3800983 ],\n",
       "       [-1.24945444,  0.16418351, -0.44558712],\n",
       "       [-1.04164129, -0.73437977, -0.55317591],\n",
       "       [ 1.68118331,  0.33436595,  0.6115896 ],\n",
       "       [ 0.25955243, -0.35997841,  0.02686796],\n",
       "       [ 0.61377939, -0.07407191,  0.06896792],\n",
       "       [-1.69105739,  0.32075135,  0.52738968],\n",
       "       [ 1.35411375, -1.39468764,  0.60223405],\n",
       "       [ 0.55592232, -1.35384385, -1.13321977],\n",
       "       [ 0.80270044, -1.2245052 , -0.12749855],\n",
       "       [-0.03799822,  0.03484485, -0.51575372],\n",
       "       [ 0.24538335,  1.11039787,  0.35431208],\n",
       "       [ 0.79325439,  0.68834542,  1.35067775],\n",
       "       [ 1.32459483,  0.36840244, -0.66544246],\n",
       "       [ 0.15328434,  0.91298624, -1.06305318],\n",
       "       [-0.59177304, -0.9385987 , -1.24080855],\n",
       "       [-0.87633537,  0.27990757, -0.66076469],\n",
       "       [ 0.40596624,  1.39630437, -1.32968624],\n",
       "       [-0.19149657, -1.25854169, -0.97417549],\n",
       "       [ 1.45447805,  0.37520973,  1.38342216],\n",
       "       [ 1.72250979,  0.87894975,  3.31066468],\n",
       "       [-0.64136482, -0.58461923,  0.41044535],\n",
       "       [-0.48078193,  1.66178898,  0.99516699],\n",
       "       [ 1.23839961,  0.23906378, -1.15193086],\n",
       "       [ 0.6326715 ,  0.64750164,  0.74256725],\n",
       "       [ 1.05774385, -0.45528057, -0.33799834],\n",
       "       [ 0.50987282,  0.81768408,  2.12718809],\n",
       "       [ 0.47917315,  0.36159514, -0.55785368],\n",
       "       [-0.71811399, -0.91817681,  0.26075661],\n",
       "       [-1.2695273 ,  0.17099081, -0.4502649 ],\n",
       "       [-1.32620361, -1.34022926, -0.7636757 ],\n",
       "       [-1.62257351, -1.56487008, -0.21169847],\n",
       "       [ 1.0482978 , -0.53696814, -0.13217633],\n",
       "       [-1.57416249,  1.53245032,  1.83248838],\n",
       "       [ 0.71060143,  0.41605352, -0.97417549],\n",
       "       [-1.47497894,  1.06274679, -0.97417549],\n",
       "       [ 0.31268647, -0.95902059, -1.10983091],\n",
       "       [ 0.66573268, -1.02028627, -0.17427628],\n",
       "       [-0.99677254, -1.19727601, -0.27718729],\n",
       "       [-0.00966006,  0.83129867, -1.128542  ],\n",
       "       [-0.24935364, -1.20408331,  0.0549346 ],\n",
       "       [-0.66497995, -1.25854169, -1.03030876],\n",
       "       [ 1.48990075, -1.43553142, -0.30057616],\n",
       "       [ 1.49226226,  1.73666925,  0.54610077],\n",
       "       [-1.68515361,  1.05593949,  0.95774481],\n",
       "       [ 1.18526556,  0.89256435,  1.97282157],\n",
       "       [ 0.29733664, -0.54377544, -1.29694183],\n",
       "       [-1.6391041 ,  0.91979354,  0.70514506],\n",
       "       [-0.88578142, -0.85691113, -1.128542  ],\n",
       "       [ 0.58189897, -1.38107304,  0.20930111],\n",
       "       [ 0.9396682 ,  0.98105922,  1.82781061],\n",
       "       [-0.50912008, -0.63907761, -0.89933112],\n",
       "       [ 0.88889567, -1.03390087,  1.23373342],\n",
       "       [ 0.15092283,  0.55900677,  1.06533359],\n",
       "       [-0.22928078,  1.3214241 , -0.05733196],\n",
       "       [ 0.66455192, -1.23811979, -0.5017204 ],\n",
       "       [ 0.31268647,  0.68153812,  0.40108981],\n",
       "       [ 0.78262758,  1.39630437, -0.1368541 ],\n",
       "       [-0.98732649, -0.79564545,  0.31221212],\n",
       "       [ 0.90542626, -0.51654625,  0.9250004 ],\n",
       "       [ 0.50396903, -0.33955651,  1.66408855],\n",
       "       [-0.62601498, -1.07474465, -1.07240872],\n",
       "       [-0.76534425,  0.84491327,  0.89693376],\n",
       "       [ 0.91841458, -0.44166598, -0.18363183],\n",
       "       [-0.13009723, -1.44914602, -0.16492074],\n",
       "       [-1.2069472 ,  1.6073306 , -1.01159767],\n",
       "       [ 0.80151968,  0.29352216,  1.08872246],\n",
       "       [ 0.52994568,  1.65498168,  1.06533359],\n",
       "       [-1.71349176,  0.44328271, -0.96949771],\n",
       "       [ 1.03530948,  0.7428038 , -1.16128641],\n",
       "       [ 0.77790455,  1.24654382,  0.44318977],\n",
       "       [ 0.84874995, -1.29938547,  0.92032262],\n",
       "       [-1.45254457, -1.48318251, -0.44090935],\n",
       "       [ 0.01159355,  1.21931463,  1.32728888],\n",
       "       [-0.1336395 , -0.61865571, -0.21169847],\n",
       "       [-0.39340594, -0.59142652, -1.15660864],\n",
       "       [ 1.57137295,  1.26696572,  1.68747741],\n",
       "       [-1.0983176 ,  0.64069434, -0.3099317 ],\n",
       "       [ 1.02586343,  0.27990757, -0.89465334],\n",
       "       [ 0.74366261,  1.33503869,  0.17187893],\n",
       "       [-1.55527039, -0.11491569,  0.94838926],\n",
       "       [-1.7288416 , -0.80245275, -1.14257532],\n",
       "       [ 0.1650919 , -0.16937407,  0.80805607],\n",
       "       [-0.66852222,  1.36907518,  0.95306704],\n",
       "       [-1.43955624, -1.4899898 ,  0.13445674],\n",
       "       [ 0.96328333, -1.00667168, -1.00224213],\n",
       "       [ 0.75783169,  0.04165215, -1.22209746],\n",
       "       [-1.54818585, -0.50293165, -0.36606498],\n",
       "       [ 1.53122723, -0.90456221, -0.40816494],\n",
       "       [ 1.65520667, -1.31300007, -1.01159767],\n",
       "       [-0.1690622 , -0.28509813, -0.63269805],\n",
       "       [-0.9625306 , -0.95902059, -1.36710843],\n",
       "       [-1.25181595,  1.08316868,  0.70046729],\n",
       "       [-0.10884361,  0.23225648,  0.75192279],\n",
       "       [ 0.44729272, -0.35997841, -0.21169847],\n",
       "       [ 1.68944861,  0.29352216, -1.32500847],\n",
       "       [-0.14898934,  1.56648681,  1.35067775],\n",
       "       [-1.67806907,  0.25948567, -1.31097515],\n",
       "       [ 0.21114141, -1.10878114, -0.81045343],\n",
       "       [ 1.54539631,  1.10359057,  1.20098901],\n",
       "       [-1.26834654,  0.22544919,  0.23268998],\n",
       "       [ 0.81805028,  0.68834542,  0.70046729],\n",
       "       [ 0.37880884,  1.55287221,  1.33664443],\n",
       "       [-0.00847931, -1.5036044 , -0.27250952],\n",
       "       [ 0.82395406,  1.74347655, -1.25951965],\n",
       "       [-0.6472686 , -1.4967971 , -1.06305318],\n",
       "       [ 1.16046967,  0.25267838, -0.33799834],\n",
       "       [-0.853901  ,  1.593716  ,  0.20462334],\n",
       "       [-0.34853719, -1.02028627,  0.86886712],\n",
       "       [-0.44417847, -0.40762949,  0.39641204],\n",
       "       [-1.56589719,  0.96744462, -0.39880939],\n",
       "       [-0.83028586, -1.59209927, -0.97885326],\n",
       "       [ 1.15574665,  0.4637046 , -0.45962044],\n",
       "       [-0.62955725, -1.4899898 , -0.00587645],\n",
       "       [ 0.82631557,  0.66792353,  0.36366762],\n",
       "       [ 1.57963825, -0.87052572, -1.10983091],\n",
       "       [ 1.09434731,  1.74347655,  0.6630451 ],\n",
       "       [-0.94363849, -0.50293165,  0.49932304],\n",
       "       [-0.18086976,  1.24654382,  0.73788947],\n",
       "       [-0.88814294, -0.21021786,  0.11106788],\n",
       "       [-0.40757502, -1.06793735, -0.3286428 ],\n",
       "       [-0.89050445,  0.79045489,  1.05597804],\n",
       "       [-1.32856513,  1.15124166, -0.85255339],\n",
       "       [ 0.19224931,  1.26696572, -1.24080855],\n",
       "       [-1.46080986,  0.65430893, -0.50639818],\n",
       "       [-0.35444098,  0.34798054, -0.7449646 ],\n",
       "       [ 1.32695635, -1.35384385, -0.49704263],\n",
       "       [ 0.99162149, -1.36065115,  2.55754321],\n",
       "       [ 1.05420158, -1.31300007,  0.31688989],\n",
       "       [ 1.59971111, -0.6458849 , -1.23613078],\n",
       "       [ 0.84874995, -1.36065115, -0.79642011],\n",
       "       [-1.31085378,  1.20570004, -1.13789755],\n",
       "       [ 0.91487231,  0.97425192,  0.08767901],\n",
       "       [ 0.71178219,  1.78432033,  0.35431208],\n",
       "       [-0.91057731, -0.43485868, -0.80577565],\n",
       "       [-0.73464458,  0.14376162,  2.02427708],\n",
       "       [ 0.57363367,  0.49093379,  0.40108981],\n",
       "       [-0.47015512,  1.17166355,  1.54714422],\n",
       "       [ 1.37418661,  1.38949707, -1.17531973],\n",
       "       [ 1.02586343, -1.24492709, -0.3099317 ],\n",
       "       [ 0.58189897, -1.41510953, -0.41752049],\n",
       "       [ 0.44138894, -0.42124408, -0.571887  ],\n",
       "       [-0.13245875, -0.60504112, -0.93207553],\n",
       "       [-1.57416249, -1.31300007,  0.06896792],\n",
       "       [-0.87515461, -1.53764089, -0.71689797],\n",
       "       [ 1.05538234,  1.23292923, -0.54382036],\n",
       "       [-1.54582433, -0.22383245, -0.61398696]])"
      ]
     },
     "execution_count": 7,
     "metadata": {},
     "output_type": "execute_result"
    }
   ],
   "source": [
    "X_train = scaler.fit_transform(X_train)\n",
    "X_train"
   ]
  },
  {
   "cell_type": "code",
   "execution_count": 8,
   "id": "a6cf5d01-a69b-4a6f-8f97-2a4aa35ad9de",
   "metadata": {},
   "outputs": [
    {
     "data": {
      "text/plain": [
       "array([[-0.96016909, -0.19660326, -0.55317591],\n",
       "       [-1.18687434, -0.80245275, -0.54849813],\n",
       "       [-0.7098487 , -1.57167737, -0.32396502],\n",
       "       [ 1.6433991 ,  1.28738761,  0.98581145],\n",
       "       [ 0.23239503, -1.06113006,  0.23736775],\n",
       "       [-1.11366744, -1.20408331, -0.01990977],\n",
       "       [-1.6745268 ,  1.73666925,  2.09912145],\n",
       "       [ 1.05774385, -1.09516654, -1.00224213],\n",
       "       [-1.49623256,  0.79726218,  1.67344409],\n",
       "       [ 0.55592232, -0.00599893, -0.7449646 ],\n",
       "       [ 1.30806424,  1.3146168 ,  1.14953351],\n",
       "       [-0.74763291, -0.78883815, -0.19766515],\n",
       "       [ 0.07181214, -1.41510953, -1.02095322],\n",
       "       [ 0.44020818, -0.15575948, -0.96481994],\n",
       "       [-0.87515461,  0.22544919, -0.36606498],\n",
       "       [-0.35798325, -0.25786894, -0.8665867 ],\n",
       "       [ 1.35883677, -0.23063975, -1.39517507],\n",
       "       [-1.76898732,  1.10359057, -1.00224213],\n",
       "       [-0.89522748,  1.77070574,  0.72853393],\n",
       "       [ 0.74248186,  0.08249594, -0.79642011],\n",
       "       [ 1.61860321,  1.33503869,  1.94943271],\n",
       "       [-0.12065118, -1.46276061, -0.98820881],\n",
       "       [ 0.2902521 , -0.06045731,  0.06429014],\n",
       "       [-0.22219624, -0.33955651,  0.20930111],\n",
       "       [-1.14554786, -1.45595332, -0.40816494],\n",
       "       [-0.32374131,  0.7632257 , -0.82916452],\n",
       "       [ 0.17808023, -0.91136951, -0.58592032],\n",
       "       [ 0.64329831,  1.47799194, -0.49236486],\n",
       "       [ 0.86764205, -1.42872413, -0.67947578],\n",
       "       [-1.48088272,  0.15737621,  0.61626737],\n",
       "       [-0.97669968,  0.89937165,  3.92345296],\n",
       "       [ 0.57127216,  1.77070574,  1.39745548],\n",
       "       [ 1.53713101, -0.6458849 ,  0.32156767],\n",
       "       [ 1.07663596,  0.99467381, -0.32396502],\n",
       "       [-1.62139275, -0.50973895,  0.91096708],\n",
       "       [-1.55645114, -0.76841626, -0.31460948],\n",
       "       [-1.07352171, -0.77522356,  0.60691183],\n",
       "       [ 0.35755522, -0.85691113,  1.32261111],\n",
       "       [-0.96961514,  1.43714816,  0.25607884],\n",
       "       [-1.48206348, -0.84329653, -0.01990977]])"
      ]
     },
     "execution_count": 8,
     "metadata": {},
     "output_type": "execute_result"
    }
   ],
   "source": [
    "X_test = scaler.transform(X_test)\n",
    "X_test\n",
    "\n",
    "#scaler.inverse_transform(X_test)   # to get the data in original form"
   ]
  },
  {
   "cell_type": "code",
   "execution_count": 9,
   "id": "1ce4c297-9095-4426-a540-b60e66e9c0f6",
   "metadata": {},
   "outputs": [],
   "source": [
    "from sklearn.linear_model import LinearRegression\n",
    "# cross validation\n",
    "from sklearn.model_selection import cross_val_score"
   ]
  },
  {
   "cell_type": "code",
   "execution_count": 10,
   "id": "9f743369-9d96-4a6b-ae7e-fba385dcb2ae",
   "metadata": {},
   "outputs": [
    {
     "data": {
      "text/html": [
       "<style>#sk-container-id-1 {color: black;}#sk-container-id-1 pre{padding: 0;}#sk-container-id-1 div.sk-toggleable {background-color: white;}#sk-container-id-1 label.sk-toggleable__label {cursor: pointer;display: block;width: 100%;margin-bottom: 0;padding: 0.3em;box-sizing: border-box;text-align: center;}#sk-container-id-1 label.sk-toggleable__label-arrow:before {content: \"▸\";float: left;margin-right: 0.25em;color: #696969;}#sk-container-id-1 label.sk-toggleable__label-arrow:hover:before {color: black;}#sk-container-id-1 div.sk-estimator:hover label.sk-toggleable__label-arrow:before {color: black;}#sk-container-id-1 div.sk-toggleable__content {max-height: 0;max-width: 0;overflow: hidden;text-align: left;background-color: #f0f8ff;}#sk-container-id-1 div.sk-toggleable__content pre {margin: 0.2em;color: black;border-radius: 0.25em;background-color: #f0f8ff;}#sk-container-id-1 input.sk-toggleable__control:checked~div.sk-toggleable__content {max-height: 200px;max-width: 100%;overflow: auto;}#sk-container-id-1 input.sk-toggleable__control:checked~label.sk-toggleable__label-arrow:before {content: \"▾\";}#sk-container-id-1 div.sk-estimator input.sk-toggleable__control:checked~label.sk-toggleable__label {background-color: #d4ebff;}#sk-container-id-1 div.sk-label input.sk-toggleable__control:checked~label.sk-toggleable__label {background-color: #d4ebff;}#sk-container-id-1 input.sk-hidden--visually {border: 0;clip: rect(1px 1px 1px 1px);clip: rect(1px, 1px, 1px, 1px);height: 1px;margin: -1px;overflow: hidden;padding: 0;position: absolute;width: 1px;}#sk-container-id-1 div.sk-estimator {font-family: monospace;background-color: #f0f8ff;border: 1px dotted black;border-radius: 0.25em;box-sizing: border-box;margin-bottom: 0.5em;}#sk-container-id-1 div.sk-estimator:hover {background-color: #d4ebff;}#sk-container-id-1 div.sk-parallel-item::after {content: \"\";width: 100%;border-bottom: 1px solid gray;flex-grow: 1;}#sk-container-id-1 div.sk-label:hover label.sk-toggleable__label {background-color: #d4ebff;}#sk-container-id-1 div.sk-serial::before {content: \"\";position: absolute;border-left: 1px solid gray;box-sizing: border-box;top: 0;bottom: 0;left: 50%;z-index: 0;}#sk-container-id-1 div.sk-serial {display: flex;flex-direction: column;align-items: center;background-color: white;padding-right: 0.2em;padding-left: 0.2em;position: relative;}#sk-container-id-1 div.sk-item {position: relative;z-index: 1;}#sk-container-id-1 div.sk-parallel {display: flex;align-items: stretch;justify-content: center;background-color: white;position: relative;}#sk-container-id-1 div.sk-item::before, #sk-container-id-1 div.sk-parallel-item::before {content: \"\";position: absolute;border-left: 1px solid gray;box-sizing: border-box;top: 0;bottom: 0;left: 50%;z-index: -1;}#sk-container-id-1 div.sk-parallel-item {display: flex;flex-direction: column;z-index: 1;position: relative;background-color: white;}#sk-container-id-1 div.sk-parallel-item:first-child::after {align-self: flex-end;width: 50%;}#sk-container-id-1 div.sk-parallel-item:last-child::after {align-self: flex-start;width: 50%;}#sk-container-id-1 div.sk-parallel-item:only-child::after {width: 0;}#sk-container-id-1 div.sk-dashed-wrapped {border: 1px dashed gray;margin: 0 0.4em 0.5em 0.4em;box-sizing: border-box;padding-bottom: 0.4em;background-color: white;}#sk-container-id-1 div.sk-label label {font-family: monospace;font-weight: bold;display: inline-block;line-height: 1.2em;}#sk-container-id-1 div.sk-label-container {text-align: center;}#sk-container-id-1 div.sk-container {/* jupyter's `normalize.less` sets `[hidden] { display: none; }` but bootstrap.min.css set `[hidden] { display: none !important; }` so we also need the `!important` here to be able to override the default hidden behavior on the sphinx rendered scikit-learn.org. See: https://github.com/scikit-learn/scikit-learn/issues/21755 */display: inline-block !important;position: relative;}#sk-container-id-1 div.sk-text-repr-fallback {display: none;}</style><div id=\"sk-container-id-1\" class=\"sk-top-container\"><div class=\"sk-text-repr-fallback\"><pre>LinearRegression()</pre><b>In a Jupyter environment, please rerun this cell to show the HTML representation or trust the notebook. <br />On GitHub, the HTML representation is unable to render, please try loading this page with nbviewer.org.</b></div><div class=\"sk-container\" hidden><div class=\"sk-item\"><div class=\"sk-estimator sk-toggleable\"><input class=\"sk-toggleable__control sk-hidden--visually\" id=\"sk-estimator-id-1\" type=\"checkbox\" checked><label for=\"sk-estimator-id-1\" class=\"sk-toggleable__label sk-toggleable__label-arrow\">LinearRegression</label><div class=\"sk-toggleable__content\"><pre>LinearRegression()</pre></div></div></div></div></div>"
      ],
      "text/plain": [
       "LinearRegression()"
      ]
     },
     "execution_count": 10,
     "metadata": {},
     "output_type": "execute_result"
    }
   ],
   "source": [
    "regression = LinearRegression()\n",
    "regression.fit(X_train, Y_train)"
   ]
  },
  {
   "cell_type": "code",
   "execution_count": 11,
   "id": "a3abbe1d-ae54-4b03-b5b3-157375799976",
   "metadata": {},
   "outputs": [
    {
     "data": {
      "text/plain": [
       "array([-1.71524789, -1.67158319, -1.83164463, -4.44175358, -1.22520234,\n",
       "       -2.78857297, -3.57788547, -2.46388059, -4.00592555, -2.39062693])"
      ]
     },
     "execution_count": 11,
     "metadata": {},
     "output_type": "execute_result"
    }
   ],
   "source": [
    "mse = cross_val_score(regression, X_train, Y_train, scoring = 'neg_mean_squared_error', cv = 10)\n",
    "mse    # mean squared error"
   ]
  },
  {
   "cell_type": "code",
   "execution_count": 12,
   "id": "e0b9309f-016a-4316-a707-31f5eaf641da",
   "metadata": {},
   "outputs": [
    {
     "data": {
      "text/plain": [
       "-2.611232315558323"
      ]
     },
     "execution_count": 12,
     "metadata": {},
     "output_type": "execute_result"
    }
   ],
   "source": [
    "np.mean(mse)"
   ]
  },
  {
   "cell_type": "code",
   "execution_count": 13,
   "id": "7e469667-30ea-4a14-891a-6867edbf7961",
   "metadata": {},
   "outputs": [
    {
     "data": {
      "text/plain": [
       "array([10.05739563,  7.4522807 ,  7.0197076 , 24.08029725, 12.01786259,\n",
       "        6.53793858, 12.78286918, 15.10974587, 10.76974013, 16.34357951,\n",
       "       22.88297477,  9.12924467, 10.46455672, 15.48743552, 11.58555633,\n",
       "       12.17296914, 18.76551502, 10.78318566, 15.90515992, 17.30651279,\n",
       "       24.06692057,  9.59834224, 15.13512211, 12.38591525,  5.71360885,\n",
       "       15.24749314, 12.29402334, 20.9421167 , 13.40991558,  9.04348832,\n",
       "       12.89239415, 21.40272028, 18.13802209, 21.17320803,  6.56974433,\n",
       "        6.14114206,  7.89018394, 13.01541434, 14.68953791,  6.18835143])"
      ]
     },
     "execution_count": 13,
     "metadata": {},
     "output_type": "execute_result"
    }
   ],
   "source": [
    "# prediction \n",
    "reg_pred = regression.predict(X_test)\n",
    "reg_pred"
   ]
  },
  {
   "cell_type": "code",
   "execution_count": 14,
   "id": "f46aa973-b5c2-40bb-b0db-920000fca78c",
   "metadata": {},
   "outputs": [
    {
     "name": "stderr",
     "output_type": "stream",
     "text": [
      "C:\\Users\\Yogesh Gahlawat\\Desktop\\Project\\venv\\lib\\site-packages\\seaborn\\axisgrid.py:118: UserWarning: The figure layout has changed to tight\n",
      "  self._figure.tight_layout(*args, **kwargs)\n"
     ]
    },
    {
     "data": {
      "text/plain": [
       "<seaborn.axisgrid.FacetGrid at 0x236d6e466b0>"
      ]
     },
     "execution_count": 14,
     "metadata": {},
     "output_type": "execute_result"
    },
    {
     "data": {
      "image/png": "[encoded data removed]",
      "text/plain": [
       "<Figure size 500x500 with 1 Axes>"
      ]
     },
     "metadata": {},
     "output_type": "display_data"
    }
   ],
   "source": [
    "import seaborn as sns\n",
    "sns.displot(reg_pred - Y_test, kind = 'kde')"
   ]
  },
  {
   "cell_type": "code",
   "execution_count": 15,
   "id": "cce18b2c-4fad-44fa-bfc9-3b2ad59f2b07",
   "metadata": {},
   "outputs": [
    {
     "data": {
      "text/plain": [
       "0.8330284237692488"
      ]
     },
     "execution_count": 15,
     "metadata": {},
     "output_type": "execute_result"
    }
   ],
   "source": [
    "from sklearn.metrics import r2_score\n",
    "score = r2_score(reg_pred, Y_test)\n",
    "score"
   ]
  },
  {
   "cell_type": "code",
   "execution_count": null,
   "id": "63ca99c4-1723-418e-b3cd-88708926ebfc",
   "metadata": {},
   "outputs": [],
   "source": []
  }
 ],
 "metadata": {
  "kernelspec": {
   "display_name": "Python 3 (ipykernel)",
   "language": "python",
   "name": "python3"
  },
  "language_info": {
   "codemirror_mode": {
    "name": "ipython",
    "version": 3
   },
   "file_extension": ".py",
   "mimetype": "text/x-python",
   "name": "python",
   "nbconvert_exporter": "python",
   "pygments_lexer": "ipython3",
   "version": "3.10.8"
  }
 },
 "nbformat": 4,
 "nbformat_minor": 5
}
